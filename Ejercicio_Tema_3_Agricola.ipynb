{
  "nbformat": 4,
  "nbformat_minor": 0,
  "metadata": {
    "colab": {
      "provenance": [],
      "collapsed_sections": [
        "CFl1j5SLMXcO"
      ],
      "authorship_tag": "ABX9TyN/4jU3d+iShhOaGgf7KsTg",
      "include_colab_link": true
    },
    "kernelspec": {
      "name": "python3",
      "display_name": "Python 3"
    },
    "language_info": {
      "name": "python"
    }
  },
  "cells": [
    {
      "cell_type": "markdown",
      "metadata": {
        "id": "view-in-github",
        "colab_type": "text"
      },
      "source": [
        "<a href=\"https://colab.research.google.com/github/BerCLx/Ejercicio_Tema_3_Agricola./blob/main/Ejercicio_Tema_3_Agricola.ipynb\" target=\"_parent\"><img src=\"https://colab.research.google.com/assets/colab-badge.svg\" alt=\"Open In Colab\"/></a>"
      ]
    },
    {
      "cell_type": "markdown",
      "source": [
        "# **Ejercicios**"
      ],
      "metadata": {
        "id": "Sp7ueq1n1W4E"
      }
    },
    {
      "cell_type": "markdown",
      "source": [
        "## Ejercicio 1: Desarrolle un programa que calcule el área de un triángulo"
      ],
      "metadata": {
        "id": "UZlSgv1i1eH6"
      }
    },
    {
      "cell_type": "code",
      "source": [],
      "metadata": {
        "id": "iwewLMdI1wFf"
      },
      "execution_count": null,
      "outputs": []
    },
    {
      "cell_type": "markdown",
      "source": [
        "## Ejercicio 2: Desarrolle un programa que calcule el perímetro de un cuadrado"
      ],
      "metadata": {
        "id": "PPW4NLof1vLW"
      }
    },
    {
      "cell_type": "code",
      "source": [],
      "metadata": {
        "id": "Vd4Odxwg155e"
      },
      "execution_count": null,
      "outputs": []
    },
    {
      "cell_type": "markdown",
      "source": [
        "## Ejercicio 3 Construcción de Ventanas\n",
        "\n",
        "[UN SIMPLE PROBLEMA: CONSTRUCCION DE VENTANAS ](https://docs.google.com/document/d/15DZ-QVMJnQAoL38Ln7DRBa-as9Z4M5R0/edit?usp=sharing&ouid=115090580121117021820&rtpof=true&sd=true)\n",
        "\n",
        "## **UN SIMPLE PROBLEMA: CONSTRUCCION DE VENTANAS**\n",
        "\n",
        "**Rob Miles** CSharp Yellow Book 2012 © Rob Miles 2011 Department of Computer Science, The University of Hull.\n",
        "\n",
        "**PLANTEAMIENTO DEL PROBLEMA.**\n",
        "\n",
        "Se requiere desarrollar un aplicativo que calcule los costos de materiales de un fabricante de ventanas. El fabricante desea ingresar las dimensiones de la ventana a fabricar, en metros, y a partir de allí el aplicativo deberá generar una salida de los costos para fabricar la ventana en términos de la cantidad de madera y vidrio necesario. El fabricante compra la madera en pies de longitud (1 m=3.25”). El programa deberá dar la longitud de la madera necesaria en pies de longitud.\n",
        "\n",
        "**PROBANDO EL PROGRAMA.** Si deseo una ventana de 2 metros de alto y 1 metro de ancho, el programa debería decirme que necesito 4 metros cuadrados de vidrio y 19.5 pies de madera.\n",
        "\n",
        "**PONIENDO MAS DETALLES**\n",
        "\n",
        "El fabricante desea que el programa controle las siguientes restricciones:\n",
        "1. El área del vidrio requerido para la ventana debe ser en metros cuadrados.\n",
        "2. Las ventanas son de doble vidrio, de modo que cada ventana requiere dos láminas.\n",
        "3. La longitud de la madera requerida para el marco debe ser dada en pies.\n"
      ],
      "metadata": {
        "id": "EI4FrVBKJfEs"
      }
    },
    {
      "cell_type": "code",
      "source": [
        "# prompt: Por favor escribe código de python que resuelva \"UN SIMPLE PROBLEMA: CONSTRUCCION DE VENTANAS\". Por favor no uses funciones definidas por el usuario\n",
        "\n",
        "# Obtenemos las dimensiones de la ventana del usuario\n",
        "alto_metros = float(input(\"Ingrese el alto de la ventana en metros: \"))\n",
        "ancho_metros = float(input(\"Ingrese el ancho de la ventana en metros: \"))\n",
        "\n",
        "# Calculamos el área del vidrio necesario\n",
        "area_vidrio = alto_metros * ancho_metros * 2  # Doble vidrio\n",
        "\n",
        "# Calculamos la longitud de madera necesaria\n",
        "perimetro_metros = 2 * (alto_metros + ancho_metros)\n",
        "longitud_pies = perimetro_metros * 3.25  # Conversión a pies\n",
        "\n",
        "# Mostramos los resultados\n",
        "print(\"Área de vidrio necesaria:\", area_vidrio, \"metros cuadrados\")\n",
        "print(\"Longitud de madera necesaria:\", longitud_pies, \"pies\")\n"
      ],
      "metadata": {
        "colab": {
          "base_uri": "https://localhost:8080/"
        },
        "id": "7-QVLQzTW_xM",
        "outputId": "86f8f790-7c21-44a9-86b9-658a49f05b7e"
      },
      "execution_count": 1,
      "outputs": [
        {
          "output_type": "stream",
          "name": "stdout",
          "text": [
            "Ingrese el alto de la ventana en metros: 2\n",
            "Ingrese el ancho de la ventana en metros: 1\n",
            "Área de vidrio necesaria: 4.0 metros cuadrados\n",
            "Longitud de madera necesaria: 19.5 pies\n"
          ]
        }
      ]
    },
    {
      "cell_type": "code",
      "source": [
        "# prompt: Por favor escribe el código anterior utilizando funciones predefinidas por el usuario\n",
        "\n",
        "def calcular_area_vidrio(alto, ancho):\n",
        "  \"\"\"Calcula el área de vidrio necesaria para una ventana de doble vidrio.\"\"\"\n",
        "  return alto * ancho * 2\n",
        "\n",
        "def calcular_longitud_madera(alto, ancho):\n",
        "  \"\"\"Calcula la longitud de madera necesaria para el marco de la ventana en pies.\"\"\"\n",
        "  perimetro_metros = 2 * (alto + ancho)\n",
        "  return perimetro_metros * 3.25\n",
        "\n",
        "# Obtenemos las dimensiones de la ventana del usuario\n",
        "alto_metros = float(input(\"Ingrese el alto de la ventana en metros: \"))\n",
        "ancho_metros = float(input(\"Ingrese el ancho de la ventana en metros: \"))\n",
        "\n",
        "# Calculamos el área del vidrio y la longitud de madera utilizando las funciones\n",
        "area_vidrio = calcular_area_vidrio(alto_metros, ancho_metros)\n",
        "longitud_madera = calcular_longitud_madera(alto_metros, ancho_metros)\n",
        "\n",
        "# Mostramos los resultados\n",
        "print(\"Área de vidrio necesaria:\", area_vidrio, \"metros cuadrados\")\n",
        "print(\"Longitud de madera necesaria:\", longitud_madera, \"pies\")\n",
        "\n"
      ],
      "metadata": {
        "id": "KX9HkQznYfue"
      },
      "execution_count": null,
      "outputs": []
    },
    {
      "cell_type": "markdown",
      "source": [
        "## Ejercicio 4 Construcción de Secadores Solares\n",
        "\n",
        "[EFICIENCIAS_SECADOR_SOLAR](https://docs.google.com/spreadsheets/d/1HOwH81S8jgQYQj9c3P-vpj0_gpliJlbo/edit?usp=sharing&ouid=115090580121117021820&rtpof=true&sd=true)\n",
        "\n",
        "Las sigientes son las ecuaciones para calcular las dimensiones de un secador tipo pirámide apartir de su altura h y el angulo requerido, los angulos son: 51.85, 43.0 y 68.0\n",
        "\n",
        "1. cálculo la Base de la pirámide\n",
        "\n",
        "$$base = \\frac{2 * h}{tan(alfa)}$$\n",
        "\n",
        "2. calculo de la arista\n",
        "\n",
        "$$arista = \\sqrt{\\frac{base^2}{2}+h^2}$$\n",
        "\n",
        "3. calculo de la apotema\n",
        "\n",
        "$$apotema =\n"
      ],
      "metadata": {
        "id": "CFl1j5SLMXcO"
      }
    },
    {
      "cell_type": "code",
      "source": [],
      "metadata": {
        "id": "g_J7YAV11M3q"
      },
      "execution_count": null,
      "outputs": []
    }
  ]
}
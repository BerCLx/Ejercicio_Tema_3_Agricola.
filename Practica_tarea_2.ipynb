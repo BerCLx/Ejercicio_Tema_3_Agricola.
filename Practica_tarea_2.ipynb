{
  "nbformat": 4,
  "nbformat_minor": 0,
  "metadata": {
    "colab": {
      "provenance": [],
      "authorship_tag": "ABX9TyPkMUJXjV2Ko5IOyw3j1QDE",
      "include_colab_link": true
    },
    "kernelspec": {
      "name": "python3",
      "display_name": "Python 3"
    },
    "language_info": {
      "name": "python"
    }
  },
  "cells": [
    {
      "cell_type": "markdown",
      "metadata": {
        "id": "view-in-github",
        "colab_type": "text"
      },
      "source": [
        "<a href=\"https://colab.research.google.com/github/BerCLx/Ejercicio_Tema_3_Agricola./blob/main/Practica_tarea_2.ipynb\" target=\"_parent\"><img src=\"https://colab.research.google.com/assets/colab-badge.svg\" alt=\"Open In Colab\"/></a>"
      ]
    },
    {
      "cell_type": "markdown",
      "source": [
        "# **Introducción**\n",
        "Este Notebook tiene como objetivo resolver tres ecuaciones relacionadas con el riego y la hidrología. Los integrantes del grupo son **Bernny Castillo**, **Diego Salgado**, **Kalet Echeverría**, **María Guerra** y **Yesica Casillo**"
      ],
      "metadata": {
        "id": "RMo6sYrsLQGp"
      }
    },
    {
      "cell_type": "markdown",
      "source": [],
      "metadata": {
        "id": "jZ1CqcsgMjdH"
      }
    },
    {
      "cell_type": "markdown",
      "source": [
        "## **Ecuación de Infiltración de Horton**\n",
        "La ecuación de infiltración de Horton modela la velocidad de infiltración del agua en el suelo durante el riego.\n",
        "\n",
        "$$I(t) = f_c + (f_0 - f_c)e^{-kt}$$\n",
        "\n",
        "Donde:\n",
        "- $I(t)$ es la tasa de infiltración en el tiempo $t$.\n",
        "- $f_c$ es la tasa de infiltración constante.\n",
        "- $f_0$ es la tasa de infiltración inicial.\n",
        "- $k$ es una constante de decaimiento temporal.\n",
        "\n",
        "**Aspectos teóricos**: La ecuación de Horton se utiliza para modelar la infiltración del agua en el suelo, lo que es fundamental para el diseño de sistemas de riego.\n",
        "\n",
        "**Código Python**:\n",
        "```python\n",
        "import numpy as np\n",
        "\n",
        "def horton_infiltration(fc, f0, k, t):\n",
        "  return fc + (f0 - fc) * np.exp(-k * t)\n",
        "\n",
        "# Ejemplo de uso\n",
        "fc = 0.1  # tasa de infiltración constante\n",
        "f0 = 1.0  # tasa de infiltración inicial\n",
        "k = 0.5  # constante de decaimiento temporal\n",
        "t = np.linspace(0, 10, 100)  # tiempo\n",
        "\n",
        "I = horton_infiltration(fc, f0, k, t)\n",
        "print(I)"
      ],
      "metadata": {
        "id": "oL8bfp3YMTzS"
      }
    },
    {
      "source": [
        "import numpy as np\n",
        "\n",
        "def horton_infiltration(fc, f0, k, t):\n",
        "    #The variables below were commented out. They need to be assigned before being referenced.\n",
        "    #Also, fc is being overwriten within the function. This should probably be passed in as an argument.\n",
        "    fc = 0.1\n",
        "    f0 = 1.0 # tasa de infiltración inicial\n",
        "    k = 0.5 # constante de decaimiento temporal\n",
        "    t = np.linspace(0, 10, 100) # tiempo\n",
        "    return fc + (f0 - fc) * np.exp(-k * t)\n",
        "\n",
        "#These variables are defined outside the scope of the function and are not used\n",
        "#fc = 0.4\n",
        "#tiempo = np.linspace(0, 360, 360)\n",
        "\n",
        "#Pass in values for fc, f0, k, and t\n",
        "I = horton_infiltration(0.4, 1.0, 0.5, np.linspace(0, 360, 360))\n",
        "print(I)"
      ],
      "cell_type": "code",
      "metadata": {
        "colab": {
          "base_uri": "https://localhost:8080/"
        },
        "id": "grBIzbkHPTUi",
        "outputId": "8d5cb3c4-7a19-45ba-94d9-56be9903d524"
      },
      "execution_count": null,
      "outputs": [
        {
          "output_type": "stream",
          "name": "stdout",
          "text": [
            "[1.         0.95567421 0.91353151 0.87346437 0.83537058 0.79915294\n",
            " 0.76471904 0.73198105 0.70085543 0.67126278 0.64312759 0.61637808\n",
            " 0.59094601 0.56676649 0.54377783 0.52192139 0.50114139 0.48138482\n",
            " 0.46260129 0.44474286 0.42776397 0.41162131 0.39627369 0.38168195\n",
            " 0.36780887 0.35461905 0.34207884 0.33015624 0.31882085 0.30804373\n",
            " 0.29779739 0.2880557  0.27879379 0.26998804 0.26161598 0.25365625\n",
            " 0.24608855 0.23889356 0.23205293 0.22554921 0.2193658  0.21348693\n",
            " 0.2078976  0.20258355 0.19753122 0.19272772 0.1881608  0.18381881\n",
            " 0.17969066 0.17576582 0.17203429 0.16848654 0.16511352 0.16190662\n",
            " 0.15885766 0.15595887 0.15320285 0.15058256 0.14809133 0.14572279\n",
            " 0.1434709  0.14132992 0.13929438 0.1373591  0.13551913 0.13376979\n",
            " 0.13210659 0.13052532 0.12902192 0.12759256 0.12623361 0.12494158\n",
            " 0.12371318 0.12254529 0.12143491 0.12037922 0.11937553 0.11842127\n",
            " 0.117514   0.11665142 0.11583133 0.11505162 0.11431032 0.11360552\n",
            " 0.11293544 0.11229835 0.11169265 0.11111678 0.11056927 0.11004872\n",
            " 0.10955381 0.10908328 0.10863592 0.10821059 0.10780621 0.10742175\n",
            " 0.10705622 0.1067087  0.10637829 0.10606415]\n"
          ]
        }
      ]
    },
    {
      "cell_type": "markdown",
      "source": [
        "## Ecuación de Drenaje Subsuperficial\n",
        "La ecuación de drenaje subsuperficial modela el drenaje subterráneo en sistemas de riego y ayuda a predecir el nivel freático.\n",
        "\n",
        "$$Q = K \\cdot (H_1 - H_2) \\cdot A$$\n",
        "\n",
        "Donde:\n",
        "- $Q$ es el flujo de agua drenada.\n",
        "- $K$ es la conductividad hidráulica del suelo.\n",
        "- $H_1$ y $H_2$ son los niveles de agua en dos puntos del suelo.\n",
        "- $A$ es el área transversal a través de la cual fluye el agua.\n",
        "\n",
        "**Aspectos teóricos**: La ecuación de drenaje subsuperficial se utiliza para modelar el flujo de agua en el suelo y predecir el nivel freático.\n",
        "\n",
        "**Código Python**:\n",
        "```python\n",
        "def subsurface_drainage(K, H1, H2, A):\n",
        "  return K * (H1 - H2) * A\n",
        "\n",
        "# Ejemplo de uso\n",
        "K = 0.01  # conductividad hidráulica del suelo\n",
        "H1 = 10.0  # nivel de agua en el punto 1\n",
        "H2 = 5.0  # nivel de agua en el punto 2\n",
        "A = 100.0  # área transversal\n",
        "\n",
        "Q = subsurface_drainage(K, H1, H2, A)\n",
        "print(Q)"
      ],
      "metadata": {
        "id": "XjhWvZv4Ml74"
      }
    },
    {
      "cell_type": "code",
      "source": [
        "def subsurface_drainage(K, H1, H2, A):\n",
        "  # Define L within the function or pass it as an argument\n",
        "  L = 1.0 # Example value, replace with the actual distance\n",
        "  Q = K * ((H1 - H2) / L) * A\n",
        "  return Q\n",
        "\n",
        "# Llama a la función y muestra el resultado\n",
        "Q = subsurface_drainage(K, H1, H2, A)\n",
        "print(Q)"
      ],
      "metadata": {
        "colab": {
          "base_uri": "https://localhost:8080/"
        },
        "id": "6sG5bc84PCJk",
        "outputId": "244d754e-edf2-48c1-be05-aa9472338f85"
      },
      "execution_count": null,
      "outputs": [
        {
          "output_type": "stream",
          "name": "stdout",
          "text": [
            "5.0\n"
          ]
        }
      ]
    },
    {
      "cell_type": "markdown",
      "source": [
        "## **Ecuación de Evapotranspiración de Cultivos (ETc)**\n",
        "La ecuación de evapotranspiración de cultivos calcula la cantidad de agua que una planta necesita.\n",
        "\n",
        "$$ET_c = K_c \\cdot ET_o$$\n",
        "\n",
        "Donde:\n",
        "- $ET_c$ es la evapotranspiración de cultivos.\n",
        "- $K_c$ es el coeficiente de cultivo.\n",
        "- $ET_o$ es la evapotranspiración de referencia.\n",
        "\n",
        "**Aspectos teóricos**: La ecuación de evapotranspiración de cultivos se utiliza para calcular la cantidad de agua necesaria para una planta.\n",
        "\n",
        "**Código Python**:\n",
        "```python\n",
        "def etc(Kc, ETo):\n",
        "  return Kc * ETo\n",
        "\n",
        "# Ejemplo de uso\n",
        "Kc = 0.5  # coeficiente de cultivo\n",
        "ETo = 10.0  # evapotranspiración de referencia\n",
        "\n",
        "ETc = etc(Kc, ETo)\n",
        "print("
      ],
      "metadata": {
        "id": "9FzJzcVnMpUz"
      }
    },
    {
      "cell_type": "code",
      "source": [
        "def etc(Kc, ETo): return Kc * ETo\n",
        "Kc = 0.5 # coeficiente de cultivo\n",
        "ETo = 10.0 # evapotranspiración de referencia\n",
        "\n",
        "def etc(Kc, ETo):\n",
        "  return Kc * ETo\n",
        "\n",
        "ETc = etc(Kc, ETo)\n",
        "print(ETc)"
      ],
      "metadata": {
        "colab": {
          "base_uri": "https://localhost:8080/"
        },
        "id": "T3znY2B5OQ_L",
        "outputId": "f08e32ce-8553-4215-9aa2-910281ff6574"
      },
      "execution_count": null,
      "outputs": [
        {
          "output_type": "stream",
          "name": "stdout",
          "text": [
            "5.0\n"
          ]
        }
      ]
    }
  ]
}